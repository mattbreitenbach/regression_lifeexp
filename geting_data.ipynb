{
 "cells": [
  {
   "cell_type": "code",
   "execution_count": 1,
   "id": "1322a659",
   "metadata": {},
   "outputs": [],
   "source": [
    "import requests\n",
    "import json\n",
    "import pandas\n",
    "from request_who import get_indicator_data, get_indicator_code"
   ]
  },
  {
   "cell_type": "code",
   "execution_count": 2,
   "id": "e0f5f0a8",
   "metadata": {},
   "outputs": [],
   "source": [
    "INDICATORS_WHO = [\n",
    "    \"Life expectancy at birth (years)\",\n",
    "    \"Age-standardized suicide rates (per 100 000 population)\",\n",
    "    \"Primary data availability for UHC Service Coverage Index (SDG 3.8.1) (%)\",\n",
    "    \"Mean BMI (kg/m&#xb2;) (crude estimate)\",\n",
    "    \"Prevalence of anaemia in women of reproductive age (aged 15-49) (%)\",\n",
    "    \"Poliomyelitis - number of reported cases\",\n",
    "    \"Estimates of rates of homicides per 100 000 population\",\n",
    "    \"Estimate of current tobacco use prevalence (%) (age-standardized rate)\",\n",
    "    \"Prevalence of obesity among adults, BMI &GreaterEqual; 30 (age-standardized estimate) (%)\"\n",
    "]\n"
   ]
  },
  {
   "cell_type": "code",
   "execution_count": 3,
   "id": "21d1f19d",
   "metadata": {},
   "outputs": [
    {
     "name": "stdout",
     "output_type": "stream",
     "text": [
      "dict_keys(['MH_12', 'NCD_BMI_30A', 'NCD_BMI_MEANC', 'UHC_AVAILABILITY_SCORE', 'VIOLENCE_HOMICIDERATE', 'WHOSIS_000001', 'WHS3_49', 'NUTRITION_ANAEMIA_REPRODUCTIVEAGE_PREV', 'M_Est_tob_curr_std'])\n"
     ]
    }
   ],
   "source": [
    "dict_who = get_indicator_code(INDICATORS_WHO)\n",
    "print(dict_who.keys())"
   ]
  },
  {
   "cell_type": "code",
   "execution_count": 4,
   "id": "dcb930e1",
   "metadata": {},
   "outputs": [],
   "source": [
    "pd_indicators = []\n",
    "\n",
    "WHOSIS_000001 = get_indicator_data(\"WHOSIS_000001\", \"Dim1 eq 'BTSX' and TimeDim eq 2015 and SpatialDimType eq 'COUNTRY'\")\n",
    "pd_indicators.append(WHOSIS_000001)\n",
    "\n",
    "MH_12 = get_indicator_data(\"MH_12\", \"Dim1 eq 'BTSX' and TimeDim eq 2015 and SpatialDimType eq 'COUNTRY'\")\n",
    "pd_indicators.append(MH_12)\n",
    "\n",
    "NCD_BMI_30A = get_indicator_data(\"NCD_BMI_30A\", \"Dim1 eq 'BTSX' and TimeDim eq 2015 and SpatialDimType eq 'COUNTRY'\")\n",
    "pd_indicators.append(NCD_BMI_30A)"
   ]
  },
  {
   "cell_type": "code",
   "execution_count": 5,
   "id": "d2c59584",
   "metadata": {},
   "outputs": [],
   "source": [
    "NCD_BMI_MEANC = get_indicator_data(\"NCD_BMI_MEANC\", \"Dim1 eq 'BTSX' and TimeDim eq 2015 and SpatialDimType eq 'COUNTRY' and Dim2 eq 'YEARS18-PLUS'\")\n",
    "pd_indicators.append(NCD_BMI_MEANC)\n",
    "\n",
    "UHC_AVAILABILITY_SCORE = get_indicator_data(\"UHC_AVAILABILITY_SCORE\", \"SpatialDimType eq 'COUNTRY'\")\n",
    "pd_indicators.append(UHC_AVAILABILITY_SCORE)\n",
    "\n",
    "VIOLENCE_HOMICIDERATE = get_indicator_data(\"VIOLENCE_HOMICIDERATE\", \"Dim1 eq 'BTSX' and TimeDim eq 2015\")\n",
    "pd_indicators.append(VIOLENCE_HOMICIDERATE)"
   ]
  },
  {
   "cell_type": "code",
   "execution_count": 6,
   "id": "af825d48",
   "metadata": {},
   "outputs": [],
   "source": [
    "WHS3_49 = get_indicator_data(\"WHS3_49\", \"TimeDim eq 2015\")\n",
    "pd_indicators.append(WHS3_49)\n",
    "\n",
    "NUTRITION_ANAEMIA_REPRODUCTIVEAGE_PREV = get_indicator_data(\"NUTRITION_ANAEMIA_REPRODUCTIVEAGE_PREV\", \"TimeDim eq 2015 and Dim1 eq 'TOTAL' and SpatialDimType eq 'COUNTRY'\")\n",
    "pd_indicators.append(NUTRITION_ANAEMIA_REPRODUCTIVEAGE_PREV)\n",
    "\n",
    "M_Est_tob_curr_std = get_indicator_data(\"M_Est_tob_curr_std\", \"Dim1 eq 'BTSX' and TimeDim eq 2015\")\n",
    "pd_indicators.append(M_Est_tob_curr_std)"
   ]
  },
  {
   "cell_type": "code",
   "execution_count": 7,
   "id": "a99c8a3e",
   "metadata": {},
   "outputs": [
    {
     "name": "stdout",
     "output_type": "stream",
     "text": [
      "    CountryCode  WHOSIS_000001    MH_12  NCD_BMI_MEANC  \\\n",
      "0           AFG       61.65429   5.9900           22.9   \n",
      "1           AGO       61.71907  13.2696           22.9   \n",
      "2           ALB       77.84428   4.2300           26.7   \n",
      "3           ARE       75.31077   5.2500           28.4   \n",
      "4           ARG       76.16682   8.1000           27.6   \n",
      "..          ...            ...      ...            ...   \n",
      "178         WSM       70.03727  14.9413           31.8   \n",
      "179         YEM       67.46812   6.8000           23.3   \n",
      "180         ZAF       62.57465  25.5519           27.0   \n",
      "181         ZMB       60.49665  17.2602           22.1   \n",
      "182         ZWE       58.47603  30.7352           23.3   \n",
      "\n",
      "     UHC_AVAILABILITY_SCORE  VIOLENCE_HOMICIDERATE  WHS3_49  \\\n",
      "0                  88.88889                9.09402     20.0   \n",
      "1                  69.44444               10.05277      0.0   \n",
      "2                  79.86111                3.95770      0.0   \n",
      "3                  70.83333                0.82217      0.0   \n",
      "4                  72.91667                6.36663      0.0   \n",
      "..                      ...                    ...      ...   \n",
      "178                54.86111                3.31774      NaN   \n",
      "179                50.69444                8.57998      0.0   \n",
      "180                80.55556               38.04798      0.0   \n",
      "181                80.55556                6.76951      0.0   \n",
      "182                75.00000               13.43061      0.0   \n",
      "\n",
      "     NUTRITION_ANAEMIA_REPRODUCTIVEAGE_PREV  M_Est_tob_curr_std  \n",
      "0                                      39.4                26.0  \n",
      "1                                      45.0                 NaN  \n",
      "2                                      22.9                25.1  \n",
      "3                                      23.7                 NaN  \n",
      "4                                      12.1                26.6  \n",
      "..                                      ...                 ...  \n",
      "178                                    25.1                28.1  \n",
      "179                                    61.3                21.8  \n",
      "180                                    28.9                21.0  \n",
      "181                                    30.7                15.5  \n",
      "182                                    29.1                13.6  \n",
      "\n",
      "[183 rows x 9 columns]\n"
     ]
    }
   ],
   "source": [
    "full_data_table = pandas.merge(WHOSIS_000001, MH_12, how=\"left\", on=\"CountryCode\")\n",
    "for i in pd_indicators[3:]:\n",
    "    full_data_table = pandas.merge(full_data_table, i, how=\"left\", on=\"CountryCode\")\n",
    "\n",
    "print(full_data_table)"
   ]
  },
  {
   "cell_type": "code",
   "execution_count": 8,
   "id": "344486fb",
   "metadata": {},
   "outputs": [],
   "source": [
    "full_data_table.to_csv(path_or_buf=\"who_data.csv\", sep=\";\")"
   ]
  },
  {
   "cell_type": "code",
   "execution_count": null,
   "id": "4db973d2",
   "metadata": {},
   "outputs": [],
   "source": []
  }
 ],
 "metadata": {
  "kernelspec": {
   "display_name": "ecocomp",
   "language": "python",
   "name": "ecocomp"
  },
  "language_info": {
   "codemirror_mode": {
    "name": "ipython",
    "version": 3
   },
   "file_extension": ".py",
   "mimetype": "text/x-python",
   "name": "python",
   "nbconvert_exporter": "python",
   "pygments_lexer": "ipython3",
   "version": "3.10.4"
  }
 },
 "nbformat": 4,
 "nbformat_minor": 5
}
