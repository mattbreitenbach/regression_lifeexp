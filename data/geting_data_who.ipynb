{
 "cells": [
  {
   "cell_type": "code",
   "execution_count": 1,
   "id": "1322a659",
   "metadata": {},
   "outputs": [],
   "source": [
    "import requests\n",
    "import json\n",
    "import pandas\n",
    "from request_who import get_indicator_data, get_indicator_code\n",
    "import numpy as np"
   ]
  },
  {
   "cell_type": "code",
   "execution_count": 2,
   "id": "e0f5f0a8",
   "metadata": {},
   "outputs": [],
   "source": [
    "INDICATORS_WHO = [\n",
    "    \"Life expectancy at birth (years)\",\n",
    "    \"Age-standardized suicide rates (per 100 000 population)\",\n",
    "    \"Primary data availability for UHC Service Coverage Index (SDG 3.8.1) (%)\",\n",
    "    \"Prevalence of anaemia in women of reproductive age (aged 15-49) (%)\",\n",
    "    \"Poliomyelitis - number of reported cases\",\n",
    "    \"Estimates of rates of homicides per 100 000 population\",\n",
    "    \"Prevalence of obesity among adults, BMI &GreaterEqual; 30 (age-standardized estimate) (%)\"\n",
    "]\n"
   ]
  },
  {
   "cell_type": "code",
   "execution_count": 3,
   "id": "21d1f19d",
   "metadata": {},
   "outputs": [
    {
     "name": "stdout",
     "output_type": "stream",
     "text": [
      "MH_12 : Age-standardized suicide rates (per 100 000 population)\n",
      "NCD_BMI_30A : Prevalence of obesity among adults, BMI &GreaterEqual; 30 (age-standardized estimate) (%)\n",
      "UHC_AVAILABILITY_SCORE : Primary data availability for UHC Service Coverage Index (SDG 3.8.1) (%)\n",
      "VIOLENCE_HOMICIDERATE : Estimates of rates of homicides per 100 000 population\n",
      "WHOSIS_000001 : Life expectancy at birth (years)\n",
      "WHS3_49 : Poliomyelitis - number of reported cases\n",
      "NUTRITION_ANAEMIA_REPRODUCTIVEAGE_PREV : Prevalence of anaemia in women of reproductive age (aged 15-49) (%)\n"
     ]
    }
   ],
   "source": [
    "dict_who = get_indicator_code(INDICATORS_WHO)\n",
    "for k, v in dict_who.items():\n",
    "    print(f\"{k} : {v}\")"
   ]
  },
  {
   "cell_type": "code",
   "execution_count": 4,
   "id": "dcb930e1",
   "metadata": {},
   "outputs": [],
   "source": [
    "pd_indicators = []\n",
    "\n",
    "NCD_BMI_30A = get_indicator_data(\"NCD_BMI_30A\", \"Dim1 eq 'BTSX' and TimeDim eq 2015 and SpatialDimType eq 'COUNTRY'\")\n",
    "pd_indicators.append(NCD_BMI_30A)\n",
    "\n",
    "WHOSIS_000001 = get_indicator_data(\"WHOSIS_000001\", \"Dim1 eq 'BTSX' and TimeDim eq 2015 and SpatialDimType eq 'COUNTRY'\")\n",
    "pd_indicators.append(WHOSIS_000001)\n",
    "\n",
    "MH_12 = get_indicator_data(\"MH_12\", \"Dim1 eq 'BTSX' and TimeDim eq 2015 and SpatialDimType eq 'COUNTRY'\")\n",
    "pd_indicators.append(MH_12)"
   ]
  },
  {
   "cell_type": "code",
   "execution_count": 5,
   "id": "d2c59584",
   "metadata": {},
   "outputs": [],
   "source": [
    "UHC_AVAILABILITY_SCORE = get_indicator_data(\"UHC_AVAILABILITY_SCORE\", \"SpatialDimType eq 'COUNTRY'\")\n",
    "pd_indicators.append(UHC_AVAILABILITY_SCORE)\n",
    "\n",
    "VIOLENCE_HOMICIDERATE = get_indicator_data(\"VIOLENCE_HOMICIDERATE\", \"Dim1 eq 'BTSX' and TimeDim eq 2015\")\n",
    "pd_indicators.append(VIOLENCE_HOMICIDERATE)"
   ]
  },
  {
   "cell_type": "code",
   "execution_count": 6,
   "id": "af825d48",
   "metadata": {},
   "outputs": [],
   "source": [
    "WHS3_49 = get_indicator_data(\"WHS3_49\", \"TimeDim eq 2015\")\n",
    "pd_indicators.append(WHS3_49)\n",
    "\n",
    "NUTRITION_ANAEMIA_REPRODUCTIVEAGE_PREV = get_indicator_data(\"NUTRITION_ANAEMIA_REPRODUCTIVEAGE_PREV\", \"TimeDim eq 2015 and Dim1 eq 'TOTAL' and SpatialDimType eq 'COUNTRY'\")\n",
    "pd_indicators.append(NUTRITION_ANAEMIA_REPRODUCTIVEAGE_PREV)"
   ]
  },
  {
   "cell_type": "code",
   "execution_count": 7,
   "id": "a99c8a3e",
   "metadata": {},
   "outputs": [
    {
     "name": "stdout",
     "output_type": "stream",
     "text": [
      "    CountryCode  NCD_BMI_30A  WHOSIS_000001    MH_12  UHC_AVAILABILITY_SCORE  \\\n",
      "0           AFG          5.2       61.65429   5.9900                88.88889   \n",
      "1           ALB         21.1       77.84428   4.2300                79.86111   \n",
      "2           DZA         26.7       76.54363   2.7200                85.41667   \n",
      "3           AND         25.4            NaN      NaN                31.25000   \n",
      "4           AGO          7.9       61.71907  13.2696                69.44444   \n",
      "..          ...          ...            ...      ...                     ...   \n",
      "190         ZWE         15.2       58.47603  30.7352                75.00000   \n",
      "191         MCO          NaN            NaN      NaN                34.02778   \n",
      "192         SMR          NaN            NaN      NaN                25.69444   \n",
      "193         SSD          NaN       61.98944   6.4100                48.61111   \n",
      "194         SDN          NaN       67.93808   4.8900                57.63889   \n",
      "\n",
      "     VIOLENCE_HOMICIDERATE  WHS3_49  NUTRITION_ANAEMIA_REPRODUCTIVEAGE_PREV  \n",
      "0                  9.09402     20.0                                    39.4  \n",
      "1                  3.95770      0.0                                    22.9  \n",
      "2                  1.66750      0.0                                    32.8  \n",
      "3                      NaN      0.0                                    11.0  \n",
      "4                 10.05277      0.0                                    45.0  \n",
      "..                     ...      ...                                     ...  \n",
      "190               13.43061      0.0                                    29.1  \n",
      "191                    NaN      0.0                                    11.3  \n",
      "192                    NaN      0.0                                    11.4  \n",
      "193               14.64944      0.0                                    34.8  \n",
      "194                6.21446      0.0                                    36.3  \n",
      "\n",
      "[195 rows x 8 columns]\n"
     ]
    }
   ],
   "source": [
    "full_data_table = pandas.merge(NCD_BMI_30A, WHOSIS_000001, how=\"left\", on=\"CountryCode\")\n",
    "for i in pd_indicators[2:]:\n",
    "    full_data_table = pandas.merge(full_data_table, i, how=\"left\", on=\"CountryCode\")\n",
    "\n",
    "print(full_data_table)"
   ]
  },
  {
   "cell_type": "code",
   "execution_count": 8,
   "id": "6feab79f",
   "metadata": {},
   "outputs": [
    {
     "name": "stdout",
     "output_type": "stream",
     "text": [
      "    CountryCode  WHOSIS_000001  NCD_BMI_30A    MH_12  UHC_AVAILABILITY_SCORE  \\\n",
      "0           AFG       61.65429          5.2   5.9900                88.88889   \n",
      "1           ALB       77.84428         21.1   4.2300                79.86111   \n",
      "2           DZA       76.54363         26.7   2.7200                85.41667   \n",
      "3           AND            NaN         25.4      NaN                31.25000   \n",
      "4           AGO       61.71907          7.9  13.2696                69.44444   \n",
      "..          ...            ...          ...      ...                     ...   \n",
      "190         ZWE       58.47603         15.2  30.7352                75.00000   \n",
      "191         MCO            NaN          NaN      NaN                34.02778   \n",
      "192         SMR            NaN          NaN      NaN                25.69444   \n",
      "193         SSD       61.98944          NaN   6.4100                48.61111   \n",
      "194         SDN       67.93808          NaN   4.8900                57.63889   \n",
      "\n",
      "     VIOLENCE_HOMICIDERATE  WHS3_49  NUTRITION_ANAEMIA_REPRODUCTIVEAGE_PREV  \\\n",
      "0                  9.09402     20.0                                    39.4   \n",
      "1                  3.95770      0.0                                    22.9   \n",
      "2                  1.66750      0.0                                    32.8   \n",
      "3                      NaN      0.0                                    11.0   \n",
      "4                 10.05277      0.0                                    45.0   \n",
      "..                     ...      ...                                     ...   \n",
      "190               13.43061      0.0                                    29.1   \n",
      "191                    NaN      0.0                                    11.3   \n",
      "192                    NaN      0.0                                    11.4   \n",
      "193               14.64944      0.0                                    34.8   \n",
      "194                6.21446      0.0                                    36.3   \n",
      "\n",
      "     had_polio  \n",
      "0            1  \n",
      "1            0  \n",
      "2            0  \n",
      "3            0  \n",
      "4            0  \n",
      "..         ...  \n",
      "190          0  \n",
      "191          0  \n",
      "192          0  \n",
      "193          0  \n",
      "194          0  \n",
      "\n",
      "[195 rows x 9 columns]\n"
     ]
    }
   ],
   "source": [
    "full_data_table['had_polio'] = np.where(full_data_table['WHS3_49']>0, 1, 0)\n",
    "\n",
    "full_data_table = full_data_table[['CountryCode', 'WHOSIS_000001', 'NCD_BMI_30A', 'MH_12',\n",
    "                               'UHC_AVAILABILITY_SCORE', 'VIOLENCE_HOMICIDERATE', 'WHS3_49',\n",
    "                               'NUTRITION_ANAEMIA_REPRODUCTIVEAGE_PREV', 'had_polio']]\n",
    "\n",
    "print(full_data_table)"
   ]
  },
  {
   "cell_type": "code",
   "execution_count": 9,
   "id": "344486fb",
   "metadata": {},
   "outputs": [],
   "source": [
    "full_data_table.to_csv(path_or_buf=\"./datacsv/who_data.csv\", index=False)"
   ]
  },
  {
   "cell_type": "code",
   "execution_count": null,
   "id": "4db973d2",
   "metadata": {},
   "outputs": [],
   "source": []
  }
 ],
 "metadata": {
  "kernelspec": {
   "display_name": "ecocomp",
   "language": "python",
   "name": "ecocomp"
  },
  "language_info": {
   "codemirror_mode": {
    "name": "ipython",
    "version": 3
   },
   "file_extension": ".py",
   "mimetype": "text/x-python",
   "name": "python",
   "nbconvert_exporter": "python",
   "pygments_lexer": "ipython3",
   "version": "3.10.4"
  }
 },
 "nbformat": 4,
 "nbformat_minor": 5
}
