{
 "cells": [
  {
   "cell_type": "code",
   "execution_count": 53,
   "id": "278cd90a",
   "metadata": {},
   "outputs": [],
   "source": [
    "import wbgapi as wb\n",
    "import pandas as pd\n",
    "import matplotlib.pyplot as plt\n"
   ]
  },
  {
   "cell_type": "code",
   "execution_count": 54,
   "id": "eb8a36e7",
   "metadata": {},
   "outputs": [],
   "source": [
    "indicators_wb = [\"Suicide mortality rate (per 100,000 population)\",\n",
    "                 \"Access to electricity (% of population)\",\n",
    "                 \"GDP per capita (constant 2015 US$)\",\n",
    "                 \"People using at least basic drinking water services (% of population)\",\n",
    "                 \"Rural population (% of total population)\",\n",
    "                 \"PM2.5 air pollution, population exposed to levels exceeding WHO guideline value (% of total)\",\n",
    "                 \"Population growth (annual %)\",\n",
    "                 \"Population, total\"\n",
    "                ]\n",
    "\n",
    "dict_wb = {}\n",
    "wb_series = wb.series.info()"
   ]
  },
  {
   "cell_type": "code",
   "execution_count": 55,
   "id": "382cf750",
   "metadata": {},
   "outputs": [
    {
     "name": "stdout",
     "output_type": "stream",
     "text": [
      "EG.ELC.ACCS.ZS : Access to electricity (% of population)\n",
      "EN.ATM.PM25.MC.ZS : PM2.5 air pollution, population exposed to levels exceeding WHO guideline value (% of total)\n",
      "NY.GDP.PCAP.KD : GDP per capita (constant 2015 US$)\n",
      "SH.H2O.BASW.ZS : People using at least basic drinking water services (% of population)\n",
      "SH.STA.SUIC.P5 : Suicide mortality rate (per 100,000 population)\n",
      "SP.POP.GROW : Population growth (annual %)\n",
      "SP.POP.TOTL : Population, total\n",
      "SP.RUR.TOTL.ZS : Rural population (% of total population)\n"
     ]
    }
   ],
   "source": [
    "for i in wb_series.items:\n",
    "    if i[\"value\"] in indicators_wb:\n",
    "        dict_wb[i[\"id\"]] = i[\"value\"]\n",
    "    \n",
    "for k, v in dict_wb.items():\n",
    "    print(f\"{k} : {v}\")"
   ]
  },
  {
   "cell_type": "code",
   "execution_count": 59,
   "id": "d43fa262",
   "metadata": {},
   "outputs": [
    {
     "name": "stdout",
     "output_type": "stream",
     "text": [
      "         YR1960  YR1961  YR1962  YR1963  YR1964  YR1965  YR1966  YR1967  \\\n",
      "economy                                                                   \n",
      "ABW         NaN     NaN     NaN     NaN     NaN     NaN     NaN     NaN   \n",
      "AFE         NaN     NaN     NaN     NaN     NaN     NaN     NaN     NaN   \n",
      "AFG         NaN     NaN     NaN     NaN     NaN     NaN     NaN     NaN   \n",
      "AFW         NaN     NaN     NaN     NaN     NaN     NaN     NaN     NaN   \n",
      "AGO         NaN     NaN     NaN     NaN     NaN     NaN     NaN     NaN   \n",
      "...         ...     ...     ...     ...     ...     ...     ...     ...   \n",
      "XKX         NaN     NaN     NaN     NaN     NaN     NaN     NaN     NaN   \n",
      "YEM         NaN     NaN     NaN     NaN     NaN     NaN     NaN     NaN   \n",
      "ZAF         NaN     NaN     NaN     NaN     NaN     NaN     NaN     NaN   \n",
      "ZMB         NaN     NaN     NaN     NaN     NaN     NaN     NaN     NaN   \n",
      "ZWE         NaN     NaN     NaN     NaN     NaN     NaN     NaN     NaN   \n",
      "\n",
      "         YR1968  YR1969  ...      YR2012      YR2013      YR2014      YR2015  \\\n",
      "economy                  ...                                                   \n",
      "ABW         NaN     NaN  ...  100.000000  100.000000  100.000000  100.000000   \n",
      "AFE         NaN     NaN  ...   31.682318   31.610692   31.824950   33.744405   \n",
      "AFG         NaN     NaN  ...   69.099998   68.290649   89.500000   71.500000   \n",
      "AFW         NaN     NaN  ...   44.137410   47.029335   47.587145   46.750946   \n",
      "AGO         NaN     NaN  ...   37.131321   38.278030   32.000000   42.000000   \n",
      "...         ...     ...  ...         ...         ...         ...         ...   \n",
      "XKX         NaN     NaN  ...   99.750000   99.750000   99.680000   99.860001   \n",
      "YEM         NaN     NaN  ...   52.410000   75.599998   66.099998   67.310928   \n",
      "ZAF         NaN     NaN  ...   85.300003   85.199997   85.900002   85.300003   \n",
      "ZMB         NaN     NaN  ...   29.012726   29.886272   27.900000   31.100000   \n",
      "ZWE         NaN     NaN  ...   44.000000   40.498375   32.299999   33.700001   \n",
      "\n",
      "             YR2016      YR2017      YR2018      YR2019      YR2020  YR2021  \n",
      "economy                                                                      \n",
      "ABW      100.000000  100.000000  100.000000  100.000000  100.000000     NaN  \n",
      "AFE       38.733352   40.092163   42.880977   44.073912   45.609604     NaN  \n",
      "AFG       97.699997   97.699997   96.616135   97.699997   97.699997     NaN  \n",
      "AFW       50.931399   48.835062   51.238518   51.260220   52.082053     NaN  \n",
      "AGO       41.813129   43.013260   45.290001   45.642799   46.890610     NaN  \n",
      "...             ...         ...         ...         ...         ...     ...  \n",
      "XKX       99.800003   99.800003         NaN  100.000000         NaN     NaN  \n",
      "YEM       68.859505   79.199997   62.000000   72.751076   73.757927     NaN  \n",
      "ZAF       83.900002   84.400002   84.699997   85.000000   84.385536     NaN  \n",
      "ZMB       35.425453   40.299999   40.317890   43.000000   44.524475     NaN  \n",
      "ZWE       42.561729   44.178635   45.572647   46.781475   52.747669     NaN  \n",
      "\n",
      "[266 rows x 62 columns]\n"
     ]
    }
   ],
   "source": [
    "EG_ELC_ACCS_ZS = wb.data.DataFrame('EG.ELC.ACCS.ZS')\n",
    "print(EG_ELC_ACCS_ZS)"
   ]
  },
  {
   "cell_type": "code",
   "execution_count": null,
   "id": "a1d47daf",
   "metadata": {},
   "outputs": [],
   "source": []
  },
  {
   "cell_type": "code",
   "execution_count": 69,
   "id": "1770b6b7",
   "metadata": {},
   "outputs": [
    {
     "name": "stdout",
     "output_type": "stream",
     "text": [
      "                                Country  EG.ELC.ACCS.ZS\n",
      "economy                                                \n",
      "ZWE                            Zimbabwe       33.700001\n",
      "ZMB                              Zambia       31.100000\n",
      "YEM                         Yemen, Rep.       67.310928\n",
      "PSE                  West Bank and Gaza       99.900002\n",
      "VIR               Virgin Islands (U.S.)      100.000000\n",
      "...                                 ...             ...\n",
      "CEB      Central Europe and the Baltics      100.000000\n",
      "CSS              Caribbean small states       95.736090\n",
      "ARB                          Arab World       88.891130\n",
      "AFW          Africa Western and Central       46.750946\n",
      "AFE         Africa Eastern and Southern       33.744405\n",
      "\n",
      "[266 rows x 2 columns]\n"
     ]
    }
   ],
   "source": [
    "EG_ELC_ACCS_ZS = wb.data.DataFrame('EG.ELC.ACCS.ZS', time=2015, labels=True)\n",
    "print(EG_ELC_ACCS_ZS)"
   ]
  },
  {
   "cell_type": "code",
   "execution_count": null,
   "id": "bfe8643a",
   "metadata": {},
   "outputs": [],
   "source": []
  }
 ],
 "metadata": {
  "kernelspec": {
   "display_name": "ecocomp",
   "language": "python",
   "name": "ecocomp"
  },
  "language_info": {
   "codemirror_mode": {
    "name": "ipython",
    "version": 3
   },
   "file_extension": ".py",
   "mimetype": "text/x-python",
   "name": "python",
   "nbconvert_exporter": "python",
   "pygments_lexer": "ipython3",
   "version": "3.10.4"
  }
 },
 "nbformat": 4,
 "nbformat_minor": 5
}
