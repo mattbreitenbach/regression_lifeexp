{
 "cells": [
  {
   "cell_type": "code",
   "execution_count": 1,
   "id": "bde8e9dd",
   "metadata": {},
   "outputs": [],
   "source": [
    "import wbgapi as wb\n",
    "import pandas as pd\n",
    "import numpy as np"
   ]
  },
  {
   "cell_type": "code",
   "execution_count": 2,
   "id": "09c2e5de",
   "metadata": {},
   "outputs": [],
   "source": [
    "indicators_wb = [\"Access to electricity (% of population)\",\n",
    "                 \"GDP per capita (constant 2015 US$)\",\n",
    "                 \"People using at least basic drinking water services (% of population)\",\n",
    "                 \"Rural population (% of total population)\",\n",
    "                 \"PM2.5 air pollution, population exposed to levels exceeding WHO guideline value (% of total)\",\n",
    "                 \"Mortality rate, under-5 (per 1,000 live births)\"\n",
    "                ]\n",
    "\n",
    "dict_wb = {}\n",
    "wb_series = wb.series.info()"
   ]
  },
  {
   "cell_type": "code",
   "execution_count": 3,
   "id": "b17a1f56",
   "metadata": {},
   "outputs": [
    {
     "name": "stdout",
     "output_type": "stream",
     "text": [
      "EG.ELC.ACCS.ZS : Access to electricity (% of population)\n",
      "EN.ATM.PM25.MC.ZS : PM2.5 air pollution, population exposed to levels exceeding WHO guideline value (% of total)\n",
      "NY.GDP.PCAP.KD : GDP per capita (constant 2015 US$)\n",
      "SH.DYN.MORT : Mortality rate, under-5 (per 1,000 live births)\n",
      "SH.H2O.BASW.ZS : People using at least basic drinking water services (% of population)\n",
      "SP.RUR.TOTL.ZS : Rural population (% of total population)\n"
     ]
    }
   ],
   "source": [
    "for i in wb_series.items:\n",
    "    if i[\"value\"] in indicators_wb:\n",
    "        dict_wb[i[\"id\"]] = i[\"value\"]\n",
    "    \n",
    "for k, v in dict_wb.items():\n",
    "    print(f\"{k} : {v}\")"
   ]
  },
  {
   "cell_type": "code",
   "execution_count": 5,
   "id": "ce2a816f",
   "metadata": {},
   "outputs": [],
   "source": [
    "wb_indicators= []\n",
    "\n",
    "EG_ELC_ACCS_ZS = wb.data.DataFrame('EG.ELC.ACCS.ZS', time=2015)\n",
    "wb_indicators.append(EG_ELC_ACCS_ZS)\n",
    "\n",
    "EN_ATM_PM25_MC_ZS = wb.data.DataFrame('EN.ATM.PM25.MC.ZS', time=2015)\n",
    "wb_indicators.append(EN_ATM_PM25_MC_ZS)\n",
    "\n",
    "NY_GDP_PCAP_KD = wb.data.DataFrame('NY.GDP.PCAP.KD', time=2015)\n",
    "wb_indicators.append(NY_GDP_PCAP_KD)\n",
    "\n",
    "SH_DYN_MORT = wb.data.DataFrame('SH.DYN.MORT', time=2015)\n",
    "wb_indicators.append(SH_DYN_MORT)\n",
    "\n",
    "SH_H2O_BASW_ZS = wb.data.DataFrame('SH.H2O.BASW.ZS', time=2015)\n",
    "wb_indicators.append(SH_H2O_BASW_ZS)\n",
    "\n",
    "SP_RUR_TOTL_ZS = wb.data.DataFrame('SP.RUR.TOTL.ZS', time=2015)\n",
    "wb_indicators.append(SP_RUR_TOTL_ZS)\n"
   ]
  },
  {
   "cell_type": "code",
   "execution_count": 6,
   "id": "0aab00b8",
   "metadata": {},
   "outputs": [
    {
     "name": "stdout",
     "output_type": "stream",
     "text": [
      "         EG.ELC.ACCS.ZS  EN.ATM.PM25.MC.ZS  NY.GDP.PCAP.KD  SH.DYN.MORT  \\\n",
      "economy                                                                   \n",
      "ABW          100.000000                NaN    28421.386493          NaN   \n",
      "AFE           33.744405              100.0     1540.850354    69.138157   \n",
      "AFG           71.500000              100.0      592.476537    70.400000   \n",
      "AFW           46.750946              100.0     1876.623483   107.291693   \n",
      "AGO           42.000000              100.0     3100.830685    88.100000   \n",
      "...                 ...                ...             ...          ...   \n",
      "XKX           99.860001                NaN     3520.766449          NaN   \n",
      "YEM           67.310928              100.0     1488.416482    60.700000   \n",
      "ZAF           85.300003              100.0     6204.929901    36.300000   \n",
      "ZMB           31.100000              100.0     1307.909649    67.700000   \n",
      "ZWE           33.700001              100.0     1410.329174    61.300000   \n",
      "\n",
      "         SH.H2O.BASW.ZS  SP.RUR.TOTL.ZS  \n",
      "economy                                  \n",
      "ABW           97.869023       56.892000  \n",
      "AFE           54.908325       65.574419  \n",
      "AFG           61.339781       75.197000  \n",
      "AFW           66.489826       55.194137  \n",
      "AGO           54.316928       36.554000  \n",
      "...                 ...             ...  \n",
      "XKX                 NaN             NaN  \n",
      "YEM           55.778869       65.223000  \n",
      "ZAF           91.876344       35.172000  \n",
      "ZMB           61.338746       58.093000  \n",
      "ZWE           64.954929       67.615000  \n",
      "\n",
      "[266 rows x 6 columns]\n"
     ]
    }
   ],
   "source": [
    "full_data_table = pd.merge(EG_ELC_ACCS_ZS, EN_ATM_PM25_MC_ZS, how=\"left\", on=\"economy\")\n",
    "for i in wb_indicators[2:]:\n",
    "    full_data_table = pd.merge(full_data_table, i, how=\"left\", on=\"economy\")\n",
    "    \n",
    "print(full_data_table)"
   ]
  },
  {
   "cell_type": "code",
   "execution_count": 7,
   "id": "9295bc11",
   "metadata": {},
   "outputs": [
    {
     "name": "stdout",
     "output_type": "stream",
     "text": [
      "['EG_ELC_ACCS_ZS ', ' EN_ATM_PM25_MC_ZS ', ' NY_GDP_PCAP_KD ', ' SH_DYN_MORT ', ' SH_H2O_BASW_ZS ', ' SP_RUR_TOTL_ZS ', '']\n"
     ]
    }
   ],
   "source": [
    "variables =\"\"\n",
    "\n",
    "for i in full_data_table.columns:\n",
    "    variables = f\" {variables} {i} /\"\n",
    "\n",
    "new_names = variables.replace(\".\", \"_\").strip().split(\"/\")\n",
    "print(new_names)"
   ]
  },
  {
   "cell_type": "code",
   "execution_count": 9,
   "id": "22ff022e",
   "metadata": {},
   "outputs": [
    {
     "name": "stdout",
     "output_type": "stream",
     "text": [
      "         EG_ELC_ACCS_ZS  EN_ATM_PM25_MC_ZS  NY_GDP_PCAP_KD  SH_DYN_MORT  \\\n",
      "economy                                                                   \n",
      "ABW          100.000000                NaN    28421.386493          NaN   \n",
      "AFE           33.744405              100.0     1540.850354    69.138157   \n",
      "AFG           71.500000              100.0      592.476537    70.400000   \n",
      "AFW           46.750946              100.0     1876.623483   107.291693   \n",
      "AGO           42.000000              100.0     3100.830685    88.100000   \n",
      "...                 ...                ...             ...          ...   \n",
      "XKX           99.860001                NaN     3520.766449          NaN   \n",
      "YEM           67.310928              100.0     1488.416482    60.700000   \n",
      "ZAF           85.300003              100.0     6204.929901    36.300000   \n",
      "ZMB           31.100000              100.0     1307.909649    67.700000   \n",
      "ZWE           33.700001              100.0     1410.329174    61.300000   \n",
      "\n",
      "         SH_H2O_BASW_ZS  SP_RUR_TOTL_ZS  poor  rich  \n",
      "economy                                              \n",
      "ABW           97.869023       56.892000     0     0  \n",
      "AFE           54.908325       65.574419     1     0  \n",
      "AFG           61.339781       75.197000     1     0  \n",
      "AFW           66.489826       55.194137     1     0  \n",
      "AGO           54.316928       36.554000     1     0  \n",
      "...                 ...             ...   ...   ...  \n",
      "XKX                 NaN             NaN     1     0  \n",
      "YEM           55.778869       65.223000     1     0  \n",
      "ZAF           91.876344       35.172000     0     0  \n",
      "ZMB           61.338746       58.093000     1     0  \n",
      "ZWE           64.954929       67.615000     1     0  \n",
      "\n",
      "[266 rows x 8 columns]\n"
     ]
    }
   ],
   "source": [
    "full_data_table = full_data_table.rename(columns= {\"EG.ELC.ACCS.ZS\": \"EG_ELC_ACCS_ZS\",  \"EN.ATM.PM25.MC.ZS\": \"EN_ATM_PM25_MC_ZS\",\n",
    "                                                   \"NY.GDP.PCAP.KD\": \"NY_GDP_PCAP_KD\", \"SH.DYN.MORT\": \"SH_DYN_MORT\",\n",
    "                                                   \"SH.H2O.BASW.ZS\": \"SH_H2O_BASW_ZS\", \"SP.RUR.TOTL.ZS\":\"SP_RUR_TOTL_ZS\" })\n",
    "\n",
    "full_data_table['poor'] = np.where(full_data_table['NY_GDP_PCAP_KD']<5000, 1, 0)\n",
    "full_data_table['rich'] = np.where(full_data_table['NY_GDP_PCAP_KD']>30000, 1, 0)\n",
    "\n",
    "print(full_data_table)"
   ]
  },
  {
   "cell_type": "code",
   "execution_count": 10,
   "id": "d2cc1f77",
   "metadata": {},
   "outputs": [],
   "source": [
    "full_data_table.to_csv(path_or_buf=\"./datacsv/wb_data.csv\")"
   ]
  },
  {
   "cell_type": "code",
   "execution_count": null,
   "id": "a8274371",
   "metadata": {},
   "outputs": [],
   "source": []
  }
 ],
 "metadata": {
  "kernelspec": {
   "display_name": "ecocomp",
   "language": "python",
   "name": "ecocomp"
  },
  "language_info": {
   "codemirror_mode": {
    "name": "ipython",
    "version": 3
   },
   "file_extension": ".py",
   "mimetype": "text/x-python",
   "name": "python",
   "nbconvert_exporter": "python",
   "pygments_lexer": "ipython3",
   "version": "3.10.4"
  }
 },
 "nbformat": 4,
 "nbformat_minor": 5
}
