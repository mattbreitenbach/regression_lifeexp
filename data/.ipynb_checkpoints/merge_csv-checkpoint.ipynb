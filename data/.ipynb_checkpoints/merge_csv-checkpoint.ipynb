{
 "cells": [
  {
   "cell_type": "code",
   "execution_count": 1,
   "id": "410ff4d2",
   "metadata": {},
   "outputs": [],
   "source": [
    "import pandas as pd"
   ]
  },
  {
   "cell_type": "code",
   "execution_count": 2,
   "id": "d40ed150",
   "metadata": {},
   "outputs": [],
   "source": [
    "who_data = pd.read_csv(\"./datacsv/who_data.csv\")\n",
    "wb_data = pd.read_csv(\"./datacsv/wb_data.csv\")\n",
    "wb_data.rename(columns={\"economy\": \"CountryCode\"}, inplace=True)\n"
   ]
  },
  {
   "cell_type": "code",
   "execution_count": 3,
   "id": "beca4ad3",
   "metadata": {},
   "outputs": [
    {
     "name": "stdout",
     "output_type": "stream",
     "text": [
      "    CountryCode  WHOSIS_000001  NCD_BMI_30A    MH_12  UHC_AVAILABILITY_SCORE  \\\n",
      "0           AFG       61.65429          5.2   5.9900                88.88889   \n",
      "1           ALB       77.84428         21.1   4.2300                79.86111   \n",
      "2           DZA       76.54363         26.7   2.7200                85.41667   \n",
      "3           AND            NaN         25.4      NaN                31.25000   \n",
      "4           AGO       61.71907          7.9  13.2696                69.44444   \n",
      "..          ...            ...          ...      ...                     ...   \n",
      "190         ZWE       58.47603         15.2  30.7352                75.00000   \n",
      "191         MCO            NaN          NaN      NaN                34.02778   \n",
      "192         SMR            NaN          NaN      NaN                25.69444   \n",
      "193         SSD       61.98944          NaN   6.4100                48.61111   \n",
      "194         SDN       67.93808          NaN   4.8900                57.63889   \n",
      "\n",
      "     VIOLENCE_HOMICIDERATE  WHS3_49  NUTRITION_ANAEMIA_REPRODUCTIVEAGE_PREV  \\\n",
      "0                  9.09402     20.0                                    39.4   \n",
      "1                  3.95770      0.0                                    22.9   \n",
      "2                  1.66750      0.0                                    32.8   \n",
      "3                      NaN      0.0                                    11.0   \n",
      "4                 10.05277      0.0                                    45.0   \n",
      "..                     ...      ...                                     ...   \n",
      "190               13.43061      0.0                                    29.1   \n",
      "191                    NaN      0.0                                    11.3   \n",
      "192                    NaN      0.0                                    11.4   \n",
      "193               14.64944      0.0                                    34.8   \n",
      "194                6.21446      0.0                                    36.3   \n",
      "\n",
      "     had_polio  EG_ELC_ACCS_ZS  EN_ATM_PM25_MC_ZS  NY_GDP_PCAP_KD  \\\n",
      "0            1       71.500000         100.000000      592.476537   \n",
      "1            0       99.980003         100.000000     3952.802538   \n",
      "2            0       99.186661         100.000000     4197.421361   \n",
      "3            0      100.000000          90.848063    38885.376014   \n",
      "4            0       42.000000         100.000000     3100.830685   \n",
      "..         ...             ...                ...             ...   \n",
      "190          0       33.700001         100.000000     1410.329174   \n",
      "191          0      100.000000                NaN   170337.924413   \n",
      "192          0      100.000000                NaN    42281.643468   \n",
      "193          0        4.601340         100.000000     1071.777765   \n",
      "194          0       46.903107         100.000000     2226.421631   \n",
      "\n",
      "     SH_DYN_MORT  SH_H2O_BASW_ZS  SP_RUR_TOTL_ZS  poor  rich  \n",
      "0           70.4       61.339781          75.197   1.0   0.0  \n",
      "1            9.6       93.394325          42.566   1.0   0.0  \n",
      "2           25.2       93.409562          29.152   1.0   0.0  \n",
      "3            3.3       99.999998          11.655   0.0   1.0  \n",
      "4           88.1       54.316928          36.554   1.0   0.0  \n",
      "..           ...             ...             ...   ...   ...  \n",
      "190         61.3       64.954929          67.615   1.0   0.0  \n",
      "191          3.5      100.000000           0.000   0.0   1.0  \n",
      "192          2.2      100.000000           3.261   0.0   1.0  \n",
      "193         97.9       41.247509          81.148   1.0   0.0  \n",
      "194         65.9       58.950253          66.106   1.0   0.0  \n",
      "\n",
      "[195 rows x 17 columns]\n"
     ]
    }
   ],
   "source": [
    "full_data_table = pd.merge(who_data, wb_data, how=\"left\", on=\"CountryCode\")\n",
    "print(full_data_table)\n"
   ]
  },
  {
   "cell_type": "code",
   "execution_count": 4,
   "id": "28822bbb",
   "metadata": {},
   "outputs": [],
   "source": [
    "full_data_table.to_csv(path_or_buf=\"./datacsv/merged_data.csv\", index=False)"
   ]
  },
  {
   "cell_type": "code",
   "execution_count": null,
   "id": "24192814",
   "metadata": {},
   "outputs": [],
   "source": []
  }
 ],
 "metadata": {
  "kernelspec": {
   "display_name": "ecocomp",
   "language": "python",
   "name": "ecocomp"
  },
  "language_info": {
   "codemirror_mode": {
    "name": "ipython",
    "version": 3
   },
   "file_extension": ".py",
   "mimetype": "text/x-python",
   "name": "python",
   "nbconvert_exporter": "python",
   "pygments_lexer": "ipython3",
   "version": "3.10.4"
  }
 },
 "nbformat": 4,
 "nbformat_minor": 5
}
